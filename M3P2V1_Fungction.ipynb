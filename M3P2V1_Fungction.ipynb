{
  "nbformat": 4,
  "nbformat_minor": 0,
  "metadata": {
    "colab": {
      "name": "M3P2V1_Fungction.ipynb",
      "provenance": []
    },
    "kernelspec": {
      "name": "python3",
      "display_name": "Python 3"
    },
    "language_info": {
      "name": "python"
    }
  },
  "cells": [
    {
      "cell_type": "markdown",
      "metadata": {
        "id": "knZrN0OQJaKq"
      },
      "source": [
        "# Fungction"
      ]
    },
    {
      "cell_type": "markdown",
      "metadata": {
        "id": "PhUQaCQbJieA"
      },
      "source": [
        "Function (fungsi) adalah sebuah blok statement yang akan dijalankan saat ia dipanggil.\n",
        "\n",
        "Fungsi len() untuk mengukur jumlah elemen dalam sebuah list dan fungsi print() untuk menampilkan pesan pada layar konsol merupakan contoh dari bentuk fungsi yang telah disediakan oleh bahasa pemrograman Python atau dengan kata lain built-in fungction.\n",
        "\n",
        "Selain fungsi yang telah disediakan oleh Python, Python mengizinkan untuk mendeklarasikan fungsi dalam kode yang dituliskan yang dikenal dengan user defined fungction."
      ]
    },
    {
      "cell_type": "code",
      "metadata": {
        "id": "AZjS5-TRKfzU"
      },
      "source": [
        "def nama_fungsi(argument):\n",
        "    statement_1\n",
        "    ...\n",
        "    statement_n\n",
        "    return retruned_value"
      ],
      "execution_count": null,
      "outputs": []
    },
    {
      "cell_type": "markdown",
      "metadata": {
        "id": "M7xhW5QmNfh1"
      },
      "source": [
        "\n",
        "\n",
        "*   **nama_fungsi** adalah nama untuk fungsi yang anda definisikan, memiliki aturan seperti penamaan variabel.\n",
        "*   **argument** adalah variabel masukan ke fungsi, bisa tanpa variabel, satu variabel atau lebih.\n",
        "\n",
        "\n",
        "*   **statement_1 ... statement_n** adalah algoritma yang telah anda trasnfer dalam bahasa Python yang merupakan inti dari fungsi yang anda definisikan. Seluruh statement adalah menjorok (indent) ke dalam seperti yang pernah anda pelajari pada coditioning dan looping.\n",
        "*   **return_value** adalah variabel output dari fungsi anda, bisa tanpa variabel, satu variabel atau lebih.\n",
        "\n",
        "\n",
        "\n"
      ]
    },
    {
      "cell_type": "markdown",
      "metadata": {
        "id": "0M717aGMPp_5"
      },
      "source": [
        "### Argumen dan Parameter"
      ]
    },
    {
      "cell_type": "markdown",
      "metadata": {
        "id": "Xe1Oc5prQCPY"
      },
      "source": [
        "**Parameter** adalah variabel yang digunakan dalam deklarasi fungsi\n",
        "\n",
        "**argumen** adalah nilai yang diberikan saat memanggil fungsi"
      ]
    },
    {
      "cell_type": "code",
      "metadata": {
        "colab": {
          "base_uri": "https://localhost:8080/"
        },
        "id": "A-mC8alDRDlW",
        "outputId": "8df247cf-6ed9-43e0-fe67-eb0eb7df259d"
      },
      "source": [
        "def print_nama(nama):   # 'nama' adalah parameter\n",
        "    print(nama)\n",
        "\n",
        "print_nama('Budi')   # 'Budi' adalah argumen"
      ],
      "execution_count": null,
      "outputs": [
        {
          "output_type": "stream",
          "name": "stdout",
          "text": [
            "Budi\n"
          ]
        }
      ]
    },
    {
      "cell_type": "markdown",
      "metadata": {
        "id": "rh_1cVTYRzUN"
      },
      "source": [
        "### Argumen Posisi dan Kata Kunci"
      ]
    },
    {
      "cell_type": "markdown",
      "metadata": {
        "id": "5i1Vr2STR8Nf"
      },
      "source": [
        "Kita bisa menyatakan argumen sebagai argumen posisi atau kata kunci. Beberapa manfaat argumen kata kunci dapat berupa:\n",
        "\n",
        "\n",
        "*   Kita dapat menyebut argumen dengan nama mereka untuk memperjelas apa yang mereka wakili.\n",
        "*   Kita dapat mengatur ulang argumen dengan cara yang membuatnya paling mudah dibaca.\n",
        "\n"
      ]
    },
    {
      "cell_type": "code",
      "metadata": {
        "colab": {
          "base_uri": "https://localhost:8080/"
        },
        "id": "FQRdBVsHSgSB",
        "outputId": "7edf18ac-77fc-4629-ca05-34f73f513f98"
      },
      "source": [
        "def angka(a, b, c):\n",
        "    print(a, b, c)\n",
        "\n",
        "#argumen posisi\n",
        "#argumen berdasarkan posisinya\n",
        "angka(1, 2, 3)\n",
        "\n",
        "#argumen berdasarkan kata kuncinya\n",
        "angka(a=1, b=2, c=3)\n",
        "angka(c=3, b=2, a=1)\n",
        "#catatan: jika sudah diberi kunci maka urutan tidak menjadi penting\n",
        "\n",
        "#campuran antara argumen posisi dan kata kunci\n",
        "angka(1, b=2, c=3)\n",
        "\n",
        "#ini tidak diizinkan\n",
        "#foo(1, b=2, 3)   #argumen posisional setelah kata kunci\n",
        "#foo(1, b=2, a=3)   #terdapat dua nilai untuk argumen kunci 'a'"
      ],
      "execution_count": null,
      "outputs": [
        {
          "output_type": "stream",
          "name": "stdout",
          "text": [
            "1 2 3\n",
            "1 2 3\n",
            "1 2 3\n",
            "1 2 3\n"
          ]
        }
      ]
    },
    {
      "cell_type": "markdown",
      "metadata": {
        "id": "OlkzlGPZVyK8"
      },
      "source": [
        "### Argumen Default"
      ]
    },
    {
      "cell_type": "markdown",
      "metadata": {
        "id": "QX6Wz5CyWPS3"
      },
      "source": [
        "Fungsi dapat memiliki argumen default dengan nilai yang telah ditentukan sebelumnya. Argumen dapat ditinggalkan dan nilai default kemudian diteruskan ke fungsi, atau argumen dapat diubah dengan nilai yang berbeda. Perhatikan bahwa argumen default harus ditentukan sebagai **parameter terakhir** dalam suatu fungsi."
      ]
    },
    {
      "cell_type": "code",
      "metadata": {
        "colab": {
          "base_uri": "https://localhost:8080/"
        },
        "id": "5Yy05PmcYD40",
        "outputId": "136501fd-6f5e-4fc7-98fb-f1bd5d36cf0d"
      },
      "source": [
        "#argumen default\n",
        "def angka2(a, b, c, d=4):\n",
        "    print(a, b, c, d)\n",
        "\n",
        "angka2(1, 2, 3, 4)\n",
        "angka2(1, b=2, c=3, d=100)\n",
        "\n",
        "#argumen default harus diletakkan diakhir"
      ],
      "execution_count": null,
      "outputs": [
        {
          "output_type": "stream",
          "name": "stdout",
          "text": [
            "1 2 3 4\n",
            "1 2 3 100\n"
          ]
        }
      ]
    },
    {
      "cell_type": "markdown",
      "metadata": {
        "id": "ZGCKEHm1ZPXz"
      },
      "source": [
        "### Praktik Membuat Fungsi"
      ]
    },
    {
      "cell_type": "code",
      "metadata": {
        "colab": {
          "base_uri": "https://localhost:8080/"
        },
        "id": "fCVmN7Z2Zuka",
        "outputId": "0cb5b71e-5013-48ef-e11d-f38759b4edb6"
      },
      "source": [
        "x = 1\n",
        "y = 2\n",
        "x*y"
      ],
      "execution_count": null,
      "outputs": [
        {
          "output_type": "execute_result",
          "data": {
            "text/plain": [
              "2"
            ]
          },
          "metadata": {},
          "execution_count": 5
        }
      ]
    },
    {
      "cell_type": "code",
      "metadata": {
        "colab": {
          "base_uri": "https://localhost:8080/"
        },
        "id": "pf1mDWbXZ4JC",
        "outputId": "49922bc0-45dd-4c62-8b48-abbd02f8f3cf"
      },
      "source": [
        "def penjumlahan(x, y):   #input\n",
        "    a=x+y                #proses\n",
        "    return a             #output\n",
        "\n",
        "penjumlahan(1, 2)        #menggunakan fungsi"
      ],
      "execution_count": null,
      "outputs": [
        {
          "output_type": "execute_result",
          "data": {
            "text/plain": [
              "3"
            ]
          },
          "metadata": {},
          "execution_count": 7
        }
      ]
    },
    {
      "cell_type": "markdown",
      "metadata": {
        "id": "McReGO6LarmF"
      },
      "source": [
        "penjumlahan yang memungkinkan untuk tiga bilangan"
      ]
    },
    {
      "cell_type": "code",
      "metadata": {
        "colab": {
          "base_uri": "https://localhost:8080/"
        },
        "id": "vFbVfeTCa0rk",
        "outputId": "fecc1b80-3181-4252-e660-12fbb01bc05d"
      },
      "source": [
        "def penjumlahan(x, y, z=None):\n",
        "    if (z==None):\n",
        "      return x+y\n",
        "    else:\n",
        "      return x+y+z\n",
        "\n",
        "print(penjumlahan(1, 2))\n",
        "print(penjumlahan(1, 2, 3))"
      ],
      "execution_count": null,
      "outputs": [
        {
          "output_type": "stream",
          "name": "stdout",
          "text": [
            "3\n",
            "6\n"
          ]
        }
      ]
    },
    {
      "cell_type": "markdown",
      "metadata": {
        "id": "NkVxltDQb2c9"
      },
      "source": [
        "menyimpan hasil fungsi dalam variabel"
      ]
    },
    {
      "cell_type": "code",
      "metadata": {
        "colab": {
          "base_uri": "https://localhost:8080/"
        },
        "id": "1clnTWxGb5i-",
        "outputId": "2e5c8bac-9849-4916-db45-4d9a60305573"
      },
      "source": [
        "def penjumlahan(x, y):\n",
        "    return x+y\n",
        "\n",
        "a = penjumlahan\n",
        "a(1, 2)"
      ],
      "execution_count": null,
      "outputs": [
        {
          "output_type": "execute_result",
          "data": {
            "text/plain": [
              "3"
            ]
          },
          "metadata": {},
          "execution_count": 11
        }
      ]
    },
    {
      "cell_type": "markdown",
      "metadata": {
        "id": "wkPKYmN0cdjH"
      },
      "source": [
        "## Latihan 1"
      ]
    },
    {
      "cell_type": "code",
      "metadata": {
        "colab": {
          "base_uri": "https://localhost:8080/"
        },
        "id": "al9bStRQch6w",
        "outputId": "61289490-71cc-4824-8829-008a0824f460"
      },
      "source": [
        "def sisi_miring(a, t):\n",
        "    return ((a*a) + (t*t))**0.5\n",
        "    \n",
        "sisi_miring(6, 8)"
      ],
      "execution_count": null,
      "outputs": [
        {
          "output_type": "execute_result",
          "data": {
            "text/plain": [
              "10.0"
            ]
          },
          "metadata": {},
          "execution_count": 21
        }
      ]
    },
    {
      "cell_type": "markdown",
      "metadata": {
        "id": "tJL8lMREh3iF"
      },
      "source": [
        "## Latihan 2"
      ]
    },
    {
      "cell_type": "code",
      "metadata": {
        "colab": {
          "base_uri": "https://localhost:8080/"
        },
        "id": "BY-xi-wth8B0",
        "outputId": "87e448da-9b37-4253-a83c-b9e60b706843"
      },
      "source": [
        "def luas_balok(p, l, t):\n",
        "    return ((p*l) + (p*t) + (l*t))*2\n",
        "\n",
        "luas_balok(5, 2, 3)"
      ],
      "execution_count": null,
      "outputs": [
        {
          "output_type": "execute_result",
          "data": {
            "text/plain": [
              "62"
            ]
          },
          "metadata": {},
          "execution_count": 23
        }
      ]
    }
  ]
}