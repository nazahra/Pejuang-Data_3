{
  "nbformat": 4,
  "nbformat_minor": 0,
  "metadata": {
    "colab": {
      "name": "M3P1V2_Perulangan_For_ dan_While.ipynb",
      "provenance": []
    },
    "kernelspec": {
      "name": "python3",
      "display_name": "Python 3"
    },
    "language_info": {
      "name": "python"
    }
  },
  "cells": [
    {
      "cell_type": "markdown",
      "metadata": {
        "id": "lDLNWlUo7f3W"
      },
      "source": [
        "# Looping/Perulangan"
      ]
    },
    {
      "cell_type": "markdown",
      "metadata": {
        "id": "RrgL9hem7lPM"
      },
      "source": [
        "### For Loop"
      ]
    },
    {
      "cell_type": "markdown",
      "metadata": {
        "id": "rqw6MTEb7roh"
      },
      "source": [
        "Perulangan`for` digunakan untuk melakukan iterasi di dalam `sequence` seperti `list, tuple, string` dan `array` atau objek yang dapat diiterasi lainnya.\n",
        "\n",
        "**For loop syntax**  "
      ]
    },
    {
      "cell_type": "code",
      "metadata": {
        "id": "IQSw5CkY_p-M"
      },
      "source": [
        "for val in sequence:\n",
        "    loop body"
      ],
      "execution_count": null,
      "outputs": []
    },
    {
      "cell_type": "markdown",
      "metadata": {
        "id": "N7i-L0USHzbC"
      },
      "source": [
        "Example: Python for Loop"
      ]
    },
    {
      "cell_type": "code",
      "metadata": {
        "colab": {
          "base_uri": "https://localhost:8080/"
        },
        "id": "jYDyMF3pIFmO",
        "outputId": "1a7736c7-b340-47f5-c24b-00a619ad8254"
      },
      "source": [
        "#Program untuk menghitung jumlah semua angka dalam sebuah list\n",
        "L1 = [2, 4, 5, 7, 9]\n",
        "jumlah = 0\n",
        "\n",
        "# iterasi di dalam list\n",
        "for i in L1:\n",
        "   jumlah = jumlah + i\n",
        "\n",
        "print(jumlah)"
      ],
      "execution_count": 1,
      "outputs": [
        {
          "output_type": "stream",
          "name": "stdout",
          "text": [
            "27\n"
          ]
        }
      ]
    },
    {
      "cell_type": "markdown",
      "metadata": {
        "id": "yYZiNQrLJFrh"
      },
      "source": [
        "### The range() function"
      ]
    },
    {
      "cell_type": "code",
      "metadata": {
        "colab": {
          "base_uri": "https://localhost:8080/"
        },
        "id": "6d4wqZg_JEfY",
        "outputId": "0ccbf92f-455b-40b5-f245-a38a3cdf06a8"
      },
      "source": [
        "#Program untuk melakukan iterasi di dalam list melalui indeks\n",
        "minuman = [\"teh\", \"boba\", \"kopi\", \"susu\"]\n",
        "p = len(minuman)\n",
        "\n",
        "#iterasi di dalam list melalui indeks\n",
        "for i in range(p):\n",
        "  print(minuman[i])"
      ],
      "execution_count": 3,
      "outputs": [
        {
          "output_type": "stream",
          "name": "stdout",
          "text": [
            "teh\n",
            "boba\n",
            "kopi\n",
            "susu\n"
          ]
        }
      ]
    },
    {
      "cell_type": "markdown",
      "metadata": {
        "id": "e2VzvhieKWBG"
      },
      "source": [
        "### For loop with else"
      ]
    },
    {
      "cell_type": "code",
      "metadata": {
        "colab": {
          "base_uri": "https://localhost:8080/"
        },
        "id": "I1zSbEupKZEq",
        "outputId": "68abce89-fce1-4068-8dc6-bba1216a4529"
      },
      "source": [
        "#Contoh untuk loop menggunakan else\n",
        "for i in range(p):\n",
        "    print(minuman[i])\n",
        "else:\n",
        "    print(\"Elemen sudah habis\")"
      ],
      "execution_count": 5,
      "outputs": [
        {
          "output_type": "stream",
          "name": "stdout",
          "text": [
            "teh\n",
            "boba\n",
            "kopi\n",
            "susu\n",
            "Elemen sudah habis\n"
          ]
        }
      ]
    },
    {
      "cell_type": "markdown",
      "metadata": {
        "id": "7tRmQ6PCK6iG"
      },
      "source": [
        "## Latihan 1"
      ]
    },
    {
      "cell_type": "code",
      "metadata": {
        "colab": {
          "base_uri": "https://localhost:8080/"
        },
        "id": "XGr5Y4ryK_ca",
        "outputId": "f4827b11-4576-4c6d-dfef-1c1246b2fbdb"
      },
      "source": [
        "list_tagihan = [50000, 75000, -1500000, 125000, 300000, -50000, 200000]\n",
        "jumlah = 0\n",
        "\n",
        "#Iterasi di dalam list\n",
        "for i in list_tagihan:\n",
        "    jumlah = jumlah + i\n",
        "\n",
        "print(jumlah)"
      ],
      "execution_count": 8,
      "outputs": [
        {
          "output_type": "stream",
          "name": "stdout",
          "text": [
            "-800000\n"
          ]
        }
      ]
    },
    {
      "cell_type": "markdown",
      "metadata": {
        "id": "8gufTn47MG9p"
      },
      "source": [
        "# While Loop"
      ]
    },
    {
      "cell_type": "markdown",
      "metadata": {
        "id": "EOERrYmRMJzI"
      },
      "source": [
        "While loop pada Python digunakan untuk melakukan iterasi pada blok kode selama nilai dari `resr expresion` adalah `true`.\n",
        "\n",
        "**Syntax while loop in Python**"
      ]
    },
    {
      "cell_type": "code",
      "metadata": {
        "id": "9DV8KHylMib3"
      },
      "source": [
        "while test_expression:\n",
        "    body of while"
      ],
      "execution_count": null,
      "outputs": []
    },
    {
      "cell_type": "markdown",
      "metadata": {
        "id": "sGhCGW93MoUa"
      },
      "source": [
        "**Example: Python while loop**"
      ]
    },
    {
      "cell_type": "code",
      "metadata": {
        "colab": {
          "base_uri": "https://localhost:8080/"
        },
        "id": "AbTpYegYMwpt",
        "outputId": "424feeaa-ebaa-4f73-c160-d39de2717c76"
      },
      "source": [
        "#Program untuk menjumlahkan semua\n",
        "#Bilangan asli hingga suku ke-n\n",
        "#jum = 1+2+3+...+n\n",
        "\n",
        "n = 10\n",
        "jumlah = 0\n",
        "i = 1\n",
        "\n",
        "while i <= n:\n",
        "  jumlah = jumlah + i\n",
        "  i = i + 1\n",
        "\n",
        "print(jumlah)"
      ],
      "execution_count": 16,
      "outputs": [
        {
          "output_type": "stream",
          "name": "stdout",
          "text": [
            "55\n"
          ]
        }
      ]
    },
    {
      "cell_type": "markdown",
      "metadata": {
        "id": "RN3OGREqOFkd"
      },
      "source": [
        "### While loop with else\n",
        "\n",
        "Sama dengan `foor loop`, kita dapat mengkombinasikan `while loop` dengan blok `else`.\n",
        "\n",
        "Bagian `else` akan dieksekusi jika nilai pada `test expression` pada `while loop` bernilai false."
      ]
    },
    {
      "cell_type": "code",
      "metadata": {
        "colab": {
          "base_uri": "https://localhost:8080/"
        },
        "id": "JVfNf2ibOEKj",
        "outputId": "87f99b83-dede-44f7-e8b0-d31ff2c8ec4b"
      },
      "source": [
        "jum = 0\n",
        "i = 1\n",
        "while i <= n:\n",
        "  jum = jum + i\n",
        "  i = i +1\n",
        "else:\n",
        "  print(jum)   #dieksekusi di luar looping"
      ],
      "execution_count": 17,
      "outputs": [
        {
          "output_type": "stream",
          "name": "stdout",
          "text": [
            "55\n"
          ]
        }
      ]
    },
    {
      "cell_type": "markdown",
      "metadata": {
        "id": "X2YcMvnkPDHj"
      },
      "source": [
        "## Latihan 2"
      ]
    },
    {
      "cell_type": "code",
      "metadata": {
        "colab": {
          "base_uri": "https://localhost:8080/"
        },
        "id": "v14GH759PGsR",
        "outputId": "e3a3e920-d82e-4a16-9e4b-92371065d6cf"
      },
      "source": [
        "tagihan = [50000, 75000, 125000, 300000, 200000]\n",
        "i = 1\n",
        "n = 5\n",
        "\n",
        "while i <= n:\n",
        "  jumlah = jumlah + i\n",
        "  i = i + 1\n",
        "print(jumlah)"
      ],
      "execution_count": 23,
      "outputs": [
        {
          "output_type": "stream",
          "name": "stdout",
          "text": [
            "70\n"
          ]
        }
      ]
    }
  ]
}