{
  "nbformat": 4,
  "nbformat_minor": 0,
  "metadata": {
    "colab": {
      "name": "M2P2V2_Struktur_Data_Dictionary.ipynb",
      "provenance": [],
      "collapsed_sections": []
    },
    "kernelspec": {
      "name": "python3",
      "display_name": "Python 3"
    },
    "language_info": {
      "name": "python"
    }
  },
  "cells": [
    {
      "cell_type": "markdown",
      "metadata": {
        "id": "Zf_VEwAuBTMO"
      },
      "source": [
        "# Dictionary"
      ]
    },
    {
      "cell_type": "markdown",
      "metadata": {
        "id": "Q8ikU21OBahV"
      },
      "source": [
        "Dictionary pada Python adalah kumpulan pasangan kunci nilai (pair of key-value) yang bersifat tidak berurutan. Dictionary dapat digunakan untuk data kecil hingga besar. Untuk mengakses datanya, kita harus mengetahui kuncinya (key). Pada Python, Dictionary didefinisikan dengan kurawal dan tambahan definisi berikut:\n",
        "\n",
        "\n",
        "*   Setiap elemen pair of key-value dipisahkan dengan koma (,)\n",
        "*   Key dan Value dipisahkan dengan titik dua (:)\n",
        "\n",
        "*   Key dan Value dapat berupa tipe variabel/objek apapun.\n",
        "\n",
        "\n"
      ]
    },
    {
      "cell_type": "code",
      "metadata": {
        "colab": {
          "base_uri": "https://localhost:8080/"
        },
        "id": "_YOGTmj1PZsO",
        "outputId": "78b6b8a2-48e1-46e7-96c3-a1119cb86bf2"
      },
      "source": [
        "L1 = [1, \"dua\", True, 2+3j, 2+3j]\n",
        "L1"
      ],
      "execution_count": 1,
      "outputs": [
        {
          "output_type": "execute_result",
          "data": {
            "text/plain": [
              "[1, 'dua', True, (2+3j), (2+3j)]"
            ]
          },
          "metadata": {},
          "execution_count": 1
        }
      ]
    },
    {
      "cell_type": "code",
      "metadata": {
        "colab": {
          "base_uri": "https://localhost:8080/"
        },
        "id": "m3tHTqV-P3U3",
        "outputId": "0fef344d-23bd-4ca0-93a4-2e5ee1af6c8e"
      },
      "source": [
        "#Contoh Dictionary\n",
        "D1 = {1:'value', 'key':2}\n",
        "print(D1)"
      ],
      "execution_count": 2,
      "outputs": [
        {
          "output_type": "stream",
          "name": "stdout",
          "text": [
            "{1: 'value', 'key': 2}\n"
          ]
        }
      ]
    },
    {
      "cell_type": "markdown",
      "metadata": {
        "id": "sNb8C125TFc1"
      },
      "source": [
        "**Latihan**"
      ]
    },
    {
      "cell_type": "code",
      "metadata": {
        "colab": {
          "base_uri": "https://localhost:8080/"
        },
        "id": "x4u-PCL9TE_B",
        "outputId": "ea272369-c471-4ff9-caa6-3e8b2c1c0881"
      },
      "source": [
        "#Membuat Dictionary\n",
        "D1 ={3:'value', 'key':5}\n",
        "print(D1)"
      ],
      "execution_count": 9,
      "outputs": [
        {
          "output_type": "stream",
          "name": "stdout",
          "text": [
            "{3: 'value', 'key': 5}\n"
          ]
        }
      ]
    },
    {
      "cell_type": "code",
      "metadata": {
        "colab": {
          "base_uri": "https://localhost:8080/"
        },
        "id": "xrFrYQHMSjyX",
        "outputId": "567f4f3f-48bd-4582-f9c8-294b77b921e4"
      },
      "source": [
        "L1 [0]"
      ],
      "execution_count": 4,
      "outputs": [
        {
          "output_type": "execute_result",
          "data": {
            "text/plain": [
              "1"
            ]
          },
          "metadata": {},
          "execution_count": 4
        }
      ]
    },
    {
      "cell_type": "code",
      "metadata": {
        "colab": {
          "base_uri": "https://localhost:8080/"
        },
        "id": "-NTNbdl6S3Uu",
        "outputId": "101af9f8-9524-45de-e962-ea17621f2823"
      },
      "source": [
        "D1['key']"
      ],
      "execution_count": 5,
      "outputs": [
        {
          "output_type": "execute_result",
          "data": {
            "text/plain": [
              "2"
            ]
          },
          "metadata": {},
          "execution_count": 5
        }
      ]
    },
    {
      "cell_type": "code",
      "metadata": {
        "id": "ks4Z1wg8ThEA",
        "outputId": "94ce96fb-d6b6-48cb-d97c-953bca44ed38",
        "colab": {
          "base_uri": "https://localhost:8080/"
        }
      },
      "source": [
        "#Memanggil elemen berdasarkan Key\n",
        "print(\"D1['key'] = \", D1['key'])"
      ],
      "execution_count": 6,
      "outputs": [
        {
          "output_type": "stream",
          "name": "stdout",
          "text": [
            "D1['key'] =  2\n"
          ]
        }
      ]
    },
    {
      "cell_type": "markdown",
      "metadata": {
        "id": "t1Q8K02lT7QJ"
      },
      "source": [
        "Dictionary bukan termasuk dalam implementasi urutan (sequences), sehingga tidak bisa dipanggil dengan urutan indeks. Misalnya dalam contoh berikut dicoba dengan indeks 2, tetapi menghasilkan error (KeyError) karena tidak ada kunci (Key) 2:"
      ]
    },
    {
      "cell_type": "code",
      "metadata": {
        "id": "MBgQa7eXUomc",
        "outputId": "21d968cf-a37c-4e92-95d6-faf05dc11e36",
        "colab": {
          "base_uri": "https://localhost:8080/",
          "height": 183
        }
      },
      "source": [
        "#Nyobain Error\n",
        "print(\"D1[2] =\", D1[2])"
      ],
      "execution_count": 7,
      "outputs": [
        {
          "output_type": "error",
          "ename": "KeyError",
          "evalue": "ignored",
          "traceback": [
            "\u001b[0;31m---------------------------------------------------------------------------\u001b[0m",
            "\u001b[0;31mKeyError\u001b[0m                                  Traceback (most recent call last)",
            "\u001b[0;32m<ipython-input-7-eaae0ce2b726>\u001b[0m in \u001b[0;36m<module>\u001b[0;34m()\u001b[0m\n\u001b[1;32m      1\u001b[0m \u001b[0;31m#Nyobain Error\u001b[0m\u001b[0;34m\u001b[0m\u001b[0;34m\u001b[0m\u001b[0;34m\u001b[0m\u001b[0m\n\u001b[0;32m----> 2\u001b[0;31m \u001b[0mprint\u001b[0m\u001b[0;34m(\u001b[0m\u001b[0;34m\"D1[2] =\"\u001b[0m\u001b[0;34m,\u001b[0m \u001b[0mD1\u001b[0m\u001b[0;34m[\u001b[0m\u001b[0;36m2\u001b[0m\u001b[0;34m]\u001b[0m\u001b[0;34m)\u001b[0m\u001b[0;34m\u001b[0m\u001b[0;34m\u001b[0m\u001b[0m\n\u001b[0m",
            "\u001b[0;31mKeyError\u001b[0m: 2"
          ]
        }
      ]
    },
    {
      "cell_type": "markdown",
      "metadata": {
        "id": "5me-RZjOU-9T"
      },
      "source": [
        "**Latihan 2**"
      ]
    },
    {
      "cell_type": "code",
      "metadata": {
        "id": "GwosPea1VB4m",
        "outputId": "1977a22a-20af-4dc0-f82b-832edf03f393",
        "colab": {
          "base_uri": "https://localhost:8080/"
        }
      },
      "source": [
        "#Memanggil salah satu Key dan Value\n",
        "print(\"D1['key'] = \", D1['key'])"
      ],
      "execution_count": 10,
      "outputs": [
        {
          "output_type": "stream",
          "name": "stdout",
          "text": [
            "D1['key'] =  5\n"
          ]
        }
      ]
    },
    {
      "cell_type": "code",
      "metadata": {
        "id": "ZNQg9qawVuNd",
        "outputId": "334c6ca7-dd21-49a5-ab41-7647a3df55ae",
        "colab": {
          "base_uri": "https://localhost:8080/",
          "height": 183
        }
      },
      "source": [
        "#Mencoba error\n",
        "print(\"D1[2] =\", D1[2])"
      ],
      "execution_count": 11,
      "outputs": [
        {
          "output_type": "error",
          "ename": "KeyError",
          "evalue": "ignored",
          "traceback": [
            "\u001b[0;31m---------------------------------------------------------------------------\u001b[0m",
            "\u001b[0;31mKeyError\u001b[0m                                  Traceback (most recent call last)",
            "\u001b[0;32m<ipython-input-11-139c18f1a633>\u001b[0m in \u001b[0;36m<module>\u001b[0;34m()\u001b[0m\n\u001b[1;32m      1\u001b[0m \u001b[0;31m#Mencoba error\u001b[0m\u001b[0;34m\u001b[0m\u001b[0;34m\u001b[0m\u001b[0;34m\u001b[0m\u001b[0m\n\u001b[0;32m----> 2\u001b[0;31m \u001b[0mprint\u001b[0m\u001b[0;34m(\u001b[0m\u001b[0;34m\"D1[2] =\"\u001b[0m\u001b[0;34m,\u001b[0m \u001b[0mD1\u001b[0m\u001b[0;34m[\u001b[0m\u001b[0;36m2\u001b[0m\u001b[0;34m]\u001b[0m\u001b[0;34m)\u001b[0m\u001b[0;34m\u001b[0m\u001b[0;34m\u001b[0m\u001b[0m\n\u001b[0m",
            "\u001b[0;31mKeyError\u001b[0m: 2"
          ]
        }
      ]
    }
  ]
}