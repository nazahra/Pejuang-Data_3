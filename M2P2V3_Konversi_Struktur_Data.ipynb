{
  "nbformat": 4,
  "nbformat_minor": 0,
  "metadata": {
    "colab": {
      "name": "M2P2V3_Konversi_Struktur_Data.ipynb",
      "provenance": []
    },
    "kernelspec": {
      "name": "python3",
      "display_name": "Python 3"
    },
    "language_info": {
      "name": "python"
    }
  },
  "cells": [
    {
      "cell_type": "markdown",
      "metadata": {
        "id": "4cs0oLj9ZtPm"
      },
      "source": [
        "# Konversi Struktur Data"
      ]
    },
    {
      "cell_type": "markdown",
      "metadata": {
        "id": "iUIalf8rZz9_"
      },
      "source": [
        "Fungsi untuk mengubah/konversi struktur data:\n",
        "\n",
        "a. `list()`: untuk mengubah menjadi list\n",
        "\n",
        "b. `tuple()`: untuk mengubah menjadi tuple\n",
        "\n",
        "c. `set()`: untuk mengubah menjadi set\n",
        "\n",
        "d. `dict()`: untuk mengubag menjadi dictionary\n"
      ]
    },
    {
      "cell_type": "markdown",
      "metadata": {
        "id": "mNw3VWIPabOW"
      },
      "source": [
        "### Mengkonversi tipe data list"
      ]
    },
    {
      "cell_type": "code",
      "metadata": {
        "id": "qG3shZyZXQTI"
      },
      "source": [
        "#Membuat 2 list\n",
        "L1 = [1, 2, 3, 4]\n",
        "L2 = [5, 6, 7, 8]"
      ],
      "execution_count": null,
      "outputs": []
    },
    {
      "cell_type": "code",
      "metadata": {
        "colab": {
          "base_uri": "https://localhost:8080/"
        },
        "id": "UcCZ0qOYhBc6",
        "outputId": "7e64b4a8-3d18-4a15-8540-090f7e4f77ee"
      },
      "source": [
        "#Mengkonversi struktur data list\n",
        "k_tuple = tuple(L1)\n",
        "k_set = set(L2)\n",
        "k_dict = dict(zip(L1, L2))\n",
        "#Melihat data yang telah dikonversi\n",
        "print(k_tuple)\n",
        "print(k_set)\n",
        "print(k_dict)"
      ],
      "execution_count": null,
      "outputs": [
        {
          "output_type": "stream",
          "name": "stdout",
          "text": [
            "(1, 2, 3, 4)\n",
            "{8, 5, 6, 7}\n",
            "{1: 5, 2: 6, 3: 7, 4: 8}\n"
          ]
        }
      ]
    },
    {
      "cell_type": "markdown",
      "metadata": {
        "id": "ljPCBSzJiKLF"
      },
      "source": [
        "### Mengkonversi tipe data tuple"
      ]
    },
    {
      "cell_type": "code",
      "metadata": {
        "id": "jVjvgryJiPbb"
      },
      "source": [
        "#Membuat 2 tuple\n",
        "T1 = (1, 2, 3, 4)\n",
        "T2 = (5, 6, 7, 8)"
      ],
      "execution_count": null,
      "outputs": []
    },
    {
      "cell_type": "code",
      "metadata": {
        "colab": {
          "base_uri": "https://localhost:8080/"
        },
        "id": "I1uebFo6ky97",
        "outputId": "9e404806-8d58-49ec-d284-561da4e28889"
      },
      "source": [
        "#Mengkonversi struktur data tuple\n",
        "k_list = list(T1)\n",
        "k_set = set(T2)\n",
        "k_dict = dict(zip(T1, T2))\n",
        "#Melihat data yang telah dikonversi\n",
        "print(k_list)\n",
        "print(k_set)\n",
        "print(k_dict)"
      ],
      "execution_count": null,
      "outputs": [
        {
          "output_type": "stream",
          "name": "stdout",
          "text": [
            "[1, 2, 3, 4]\n",
            "{8, 5, 6, 7}\n",
            "{1: 5, 2: 6, 3: 7, 4: 8}\n"
          ]
        }
      ]
    },
    {
      "cell_type": "markdown",
      "metadata": {
        "id": "61DUOZYlmUyP"
      },
      "source": [
        "### Mengkonversi tipe data set"
      ]
    },
    {
      "cell_type": "code",
      "metadata": {
        "id": "BXrxqv1Jnndj"
      },
      "source": [
        "#Membuat 2 set\n",
        "S1 = {1, 2, 3, 4}\n",
        "S2 = {5, 6, 7, 8}"
      ],
      "execution_count": null,
      "outputs": []
    },
    {
      "cell_type": "code",
      "metadata": {
        "colab": {
          "base_uri": "https://localhost:8080/"
        },
        "id": "tfGvORvxn6QX",
        "outputId": "54b1a50c-ce1e-4048-a8a6-85414dabf519"
      },
      "source": [
        "#Mengkonversi struktur data set\n",
        "k_list = list(S1)\n",
        "k_tuple = tuple(S2)\n",
        "k_dict = dict(zip(S1, S2))\n",
        "#Melihat data yang telah dikonversi\n",
        "print(k_list)\n",
        "print(k_tuple)\n",
        "print(k_dict)"
      ],
      "execution_count": null,
      "outputs": [
        {
          "output_type": "stream",
          "name": "stdout",
          "text": [
            "[1, 2, 3, 4]\n",
            "(8, 5, 6, 7)\n",
            "{1: 8, 2: 5, 3: 6, 4: 7}\n"
          ]
        }
      ]
    },
    {
      "cell_type": "markdown",
      "metadata": {
        "id": "FS6KfRutquw0"
      },
      "source": [
        "### Mengkonversi tipe data dictionary"
      ]
    },
    {
      "cell_type": "code",
      "metadata": {
        "id": "XsmhC-2gq5mO"
      },
      "source": [
        "#Membuat dictionary\n",
        "D = {\n",
        "    \"nama\": \"Andi\",\n",
        "    \"alamat\": \"Yogyakarta\",\n",
        "    \"umur\": 20\n",
        "}"
      ],
      "execution_count": null,
      "outputs": []
    },
    {
      "cell_type": "code",
      "metadata": {
        "colab": {
          "base_uri": "https://localhost:8080/"
        },
        "id": "NNXIITL3sAoL",
        "outputId": "98d2d6e5-166f-4009-9d88-732414150daf"
      },
      "source": [
        "#Mengkonversi struktur data dictionary dari key dan value\n",
        "k_list = list(D.keys())\n",
        "k_tuple = tuple(D.values())\n",
        "k_set = set(D.keys())\n",
        "#Melihat data yang telah dikonversi\n",
        "print(k_list)\n",
        "print(k_tuple)\n",
        "print(k_set)"
      ],
      "execution_count": null,
      "outputs": [
        {
          "output_type": "stream",
          "name": "stdout",
          "text": [
            "['nama', 'alamat', 'umur']\n",
            "('Andi', 'Yogyakarta', 20)\n",
            "{'umur', 'nama', 'alamat'}\n"
          ]
        }
      ]
    },
    {
      "cell_type": "markdown",
      "metadata": {
        "id": "ouC6TIdRc3Us"
      },
      "source": [
        "## Latihan"
      ]
    },
    {
      "cell_type": "markdown",
      "metadata": {
        "id": "7TwmZii_dTnJ"
      },
      "source": [
        "**Tipe data list**"
      ]
    },
    {
      "cell_type": "code",
      "metadata": {
        "id": "v2v_BNgzdalZ"
      },
      "source": [
        "#Membuat list\n",
        "L1 = [3, 7, 11, 14]\n",
        "L2 = [\"Ya\", \"q\", 5]"
      ],
      "execution_count": 1,
      "outputs": []
    },
    {
      "cell_type": "code",
      "metadata": {
        "colab": {
          "base_uri": "https://localhost:8080/"
        },
        "id": "Q5lU6JDidt9o",
        "outputId": "1d978f99-be3e-4e2c-8962-151206fee17b"
      },
      "source": [
        "#Mengkonversi data\n",
        "k_tuple = tuple(L1)\n",
        "k_set = set(L2)\n",
        "k_dict = dict(zip(L1, L2))\n",
        "#Hasil konversi\n",
        "print(k_tuple)\n",
        "print(k_set)\n",
        "print(k_dict)"
      ],
      "execution_count": 2,
      "outputs": [
        {
          "output_type": "stream",
          "name": "stdout",
          "text": [
            "(3, 7, 11, 14)\n",
            "{'Ya', 5, 'q'}\n",
            "{3: 'Ya', 7: 'q', 11: 5}\n"
          ]
        }
      ]
    },
    {
      "cell_type": "markdown",
      "metadata": {
        "id": "eozmg-BceFnN"
      },
      "source": [
        "**Tipe data tuple**"
      ]
    },
    {
      "cell_type": "code",
      "metadata": {
        "id": "TgBPLoMCePTe"
      },
      "source": [
        "#Membuat tuple\n",
        "T1 = (3, \"kita\", False, 5+3j)\n",
        "T2 = (15, 9.25, True, 9.25)"
      ],
      "execution_count": 3,
      "outputs": []
    },
    {
      "cell_type": "code",
      "metadata": {
        "colab": {
          "base_uri": "https://localhost:8080/"
        },
        "id": "MpLBRNKYepcJ",
        "outputId": "37547092-feb7-48f3-8cc0-895745f3f234"
      },
      "source": [
        "#Mengkonversi data\n",
        "k_list = list(T1)\n",
        "k_set = set(T2)\n",
        "k_dict = dict(zip(T1, T2))\n",
        "#Hasil konversi\n",
        "print(k_list)\n",
        "print(k_set)\n",
        "print(k_dict)"
      ],
      "execution_count": 4,
      "outputs": [
        {
          "output_type": "stream",
          "name": "stdout",
          "text": [
            "[3, 'kita', False, (5+3j)]\n",
            "{9.25, True, 15}\n",
            "{3: 15, 'kita': 9.25, False: True, (5+3j): 9.25}\n"
          ]
        }
      ]
    },
    {
      "cell_type": "markdown",
      "metadata": {
        "id": "KLG1Vvrbe12c"
      },
      "source": [
        "**Tipe data set**"
      ]
    },
    {
      "cell_type": "code",
      "metadata": {
        "id": "KAM9Nu5Ue5el"
      },
      "source": [
        "#Membuat set\n",
        "S1 = {4, \"enam\", False, 4-7j}\n",
        "S2 = {3, 8, 14, 19}"
      ],
      "execution_count": 5,
      "outputs": []
    },
    {
      "cell_type": "code",
      "metadata": {
        "colab": {
          "base_uri": "https://localhost:8080/"
        },
        "id": "LrHoO86JfPLa",
        "outputId": "21259456-50a7-481a-8fcc-7ecc2d2442b1"
      },
      "source": [
        "#Mengkonversi data\n",
        "k_list = list(S1)\n",
        "k_tuple = tuple(S2)\n",
        "k_dict = dict(zip(S1, S2))\n",
        "#Hasil konversi\n",
        "print(k_list)\n",
        "print(k_tuple)\n",
        "print(k_dict)"
      ],
      "execution_count": 6,
      "outputs": [
        {
          "output_type": "stream",
          "name": "stdout",
          "text": [
            "[False, 4, 'enam', (4-7j)]\n",
            "(8, 19, 3, 14)\n",
            "{False: 8, 4: 19, 'enam': 3, (4-7j): 14}\n"
          ]
        }
      ]
    },
    {
      "cell_type": "markdown",
      "metadata": {
        "id": "OzyYX_O0fj2T"
      },
      "source": [
        "**Tipe data dictionary**"
      ]
    },
    {
      "cell_type": "code",
      "metadata": {
        "id": "aOoIUOLLfnNF"
      },
      "source": [
        "#Membuat dictionary\n",
        "D = {\n",
        "    \"kelas\" : \"Dasar Python\",\n",
        "     \"prodi\" : \"Matematika\",\n",
        "     \"fakultas\" : \"FAST UAD\"\n",
        "}"
      ],
      "execution_count": 7,
      "outputs": []
    },
    {
      "cell_type": "code",
      "metadata": {
        "colab": {
          "base_uri": "https://localhost:8080/"
        },
        "id": "mTKWbepfxsxj",
        "outputId": "dacb9c42-05f9-4bd5-b263-a464f1111c71"
      },
      "source": [
        "#Mengkonversi data\n",
        "k_list = list(D.keys())\n",
        "k_tuple = tuple(D.values())\n",
        "k_set = set(D.keys())\n",
        "#Hasil konversi\n",
        "print(k_list)\n",
        "print(k_tuple)\n",
        "print(k_set)"
      ],
      "execution_count": 9,
      "outputs": [
        {
          "output_type": "stream",
          "name": "stdout",
          "text": [
            "['kelas', 'prodi', 'fakultas']\n",
            "('Dasar Python', 'Matematika', 'FAST UAD')\n",
            "{'kelas', 'prodi', 'fakultas'}\n"
          ]
        }
      ]
    }
  ]
}